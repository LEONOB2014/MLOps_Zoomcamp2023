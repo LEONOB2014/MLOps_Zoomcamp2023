{
 "cells": [
  {
   "attachments": {},
   "cell_type": "markdown",
   "metadata": {},
   "source": [
    "## Homework Week 2"
   ]
  },
  {
   "attachments": {},
   "cell_type": "markdown",
   "metadata": {},
   "source": [
    "The goal of this homework is to get familiar with tools like MLflow for experiment tracking and model management."
   ]
  },
  {
   "attachments": {},
   "cell_type": "markdown",
   "metadata": {},
   "source": [
    "### Q1. Install the package"
   ]
  },
  {
   "cell_type": "code",
   "execution_count": 2,
   "metadata": {},
   "outputs": [
    {
     "name": "stdout",
     "output_type": "stream",
     "text": [
      "The version of mlflow is 2.3.2\n"
     ]
    }
   ],
   "source": [
    "import mlflow\n",
    "print(f'The version of mlflow is {mlflow.__version__}')"
   ]
  },
  {
   "attachments": {},
   "cell_type": "markdown",
   "metadata": {},
   "source": [
    "## Q2. Download and preprocess the data\n"
   ]
  },
  {
   "cell_type": "code",
   "execution_count": 3,
   "metadata": {},
   "outputs": [
    {
     "name": "stdout",
     "output_type": "stream",
     "text": [
      "green_tripdata_2022-01.parquet\tgreen_tripdata_2022-03.parquet\n",
      "green_tripdata_2022-02.parquet\n"
     ]
    }
   ],
   "source": [
    "!ls ./data"
   ]
  },
  {
   "cell_type": "code",
   "execution_count": 6,
   "metadata": {},
   "outputs": [
    {
     "name": "stdout",
     "output_type": "stream",
     "text": [
      "total 7,0M\n",
      "-rwxrwxrwx 1 hydroinfmtk hydroinfmtk 151K jun  1 14:30 dv.pkl\n",
      "-rwxrwxrwx 1 hydroinfmtk hydroinfmtk 2,6M jun  1 14:30 test.pkl\n",
      "-rwxrwxrwx 1 hydroinfmtk hydroinfmtk 2,1M jun  1 14:30 train.pkl\n",
      "-rwxrwxrwx 1 hydroinfmtk hydroinfmtk 2,3M jun  1 14:30 val.pkl\n"
     ]
    }
   ],
   "source": [
    "!ls -lh ./output"
   ]
  },
  {
   "cell_type": "code",
   "execution_count": null,
   "metadata": {},
   "outputs": [],
   "source": []
  }
 ],
 "metadata": {
  "kernelspec": {
   "display_name": "exp-tracking-env",
   "language": "python",
   "name": "python3"
  },
  "language_info": {
   "codemirror_mode": {
    "name": "ipython",
    "version": 3
   },
   "file_extension": ".py",
   "mimetype": "text/x-python",
   "name": "python",
   "nbconvert_exporter": "python",
   "pygments_lexer": "ipython3",
   "version": "3.11.3"
  },
  "orig_nbformat": 4
 },
 "nbformat": 4,
 "nbformat_minor": 2
}
